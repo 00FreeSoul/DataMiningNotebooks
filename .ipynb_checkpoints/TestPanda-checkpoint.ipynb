{
 "metadata": {
  "name": "",
  "signature": "sha256:67fad65dacf0d8f7a7904869e75e2b8d7ae82714e6946015ad4602af141898b3"
 },
 "nbformat": 3,
 "nbformat_minor": 0,
 "worksheets": [
  {
   "cells": [
    {
     "cell_type": "markdown",
     "metadata": {},
     "source": [
      "#Heading\n",
      "- bullet1\n",
      "- bullet2\n",
      "\n",
      "This is a markdown.\n",
      "\n",
      "`some code example`"
     ]
    },
    {
     "cell_type": "code",
     "collapsed": false,
     "input": [
      "print 'Hello World'"
     ],
     "language": "python",
     "metadata": {},
     "outputs": [
      {
       "output_type": "stream",
       "stream": "stdout",
       "text": [
        "Hello World\n"
       ]
      }
     ],
     "prompt_number": 1
    },
    {
     "cell_type": "code",
     "collapsed": false,
     "input": [],
     "language": "python",
     "metadata": {},
     "outputs": []
    }
   ],
   "metadata": {}
  }
 ]
}