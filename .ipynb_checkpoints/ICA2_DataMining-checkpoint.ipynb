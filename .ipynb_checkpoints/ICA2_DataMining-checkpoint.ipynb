{
 "metadata": {
  "name": "",
  "signature": "sha256:685292aff4af14760b8f23a39b8c2e8758accf9867174e59513300b3d421acc3"
 },
 "nbformat": 3,
 "nbformat_minor": 0,
 "worksheets": [
  {
   "cells": [
    {
     "cell_type": "markdown",
     "metadata": {},
     "source": [
      "Enter Team Member Names here (double click to edit):\n",
      "\n",
      "- Name 1:\n",
      "- Name 2:\n",
      "- Name 3:\n",
      "\n",
      "________\n",
      "\n",
      "#In Class Assignment Two\n",
      "In the following assignment you will be asked to fill in python code and derivations for a number of different problems. Please read all instructions carefully and turn in the rendered notebook (.ipynb file, remember to save it!!) or HTML of the rendered notebook to blackboard before the end of class.\n",
      "\n",
      "**Distance Students**: please finish this assignment in 1 hour and 30 minutes. Turn in before next class per the instructions on blackboard.\n",
      "\n",
      "________________________________________________________________________________________________________\n",
      "\n",
      "##Loading the Classification Data\n",
      "Please run the following code to read in the \"digits\" dataset from sklearn's data loading module."
     ]
    },
    {
     "cell_type": "code",
     "collapsed": false,
     "input": [
      "from sklearn.datasets import load_digits\n",
      "import numpy as np\n",
      "\n",
      "ds = load_digits()\n",
      "\n",
      "# this holds the continuous feature data\n",
      "print 'features shape:', ds.data.shape # there are 1797 instances and 64 features per instance\n",
      "print 'target shape:', ds.target.shape \n",
      "print 'range of target:', np.min(ds.target),np.max(ds.target)"
     ],
     "language": "python",
     "metadata": {},
     "outputs": [
      {
       "output_type": "stream",
       "stream": "stdout",
       "text": [
        "features shape: (1797, 64)\n",
        "target shape: (1797,)\n",
        "range of target: 0 9\n"
       ]
      }
     ],
     "prompt_number": 2
    },
    {
     "cell_type": "markdown",
     "metadata": {},
     "source": [
      "________________________________________________________________________________________________________\n",
      "\n",
      "##Using Decision Trees\n",
      "In the videos, we talked about the splitting conditions for different attributes. Specifically, we discussed the number of ways in which it is possible to split a node, depending on the attribute types. To understand the possible splits, we need to understand the attributes. You might find the description in the `ds['DESCR']` field to be useful. You can see the field using `print ds['DESCR'] `\n",
      "\n",
      "**Question 1:** For the digits dataset, what are the type(s) of the attributes? How many attributes are there? What do they represent?\n"
     ]
    },
    {
     "cell_type": "code",
     "collapsed": false,
     "input": [
      "## Enter your comments here\n",
      "\n",
      " \n",
      "\n",
      "## Enter comments here"
     ],
     "language": "python",
     "metadata": {},
     "outputs": [],
     "prompt_number": 1
    },
    {
     "cell_type": "markdown",
     "metadata": {},
     "source": [
      "___\n",
      "##Using the gini coefficient\n",
      "We talked about the gini index in the videos.  The gini coefficient for a given split is given by:\n",
      "$$Gini=\\sum_{t=1}^T \\frac{n_t}{N}gini(t)$$\n",
      "where $T$ is the total number splits (2 for binary attributes), $n_t$ is the number of instances in node $t$ after splitting, and $N$ is the total number of instances in the parent node. $gini(t)$ is the gini index for the resulting node and is given by:\n",
      "$$gini(t)=1-\\sum_{j=0}^{C-1} p(j|t)^2$$\n",
      "where $C$ is the total number of possible classes and $p(j|t)$ is the count of instances belonging to class $j$ in node $t$, normalized by the total number of instances in node $t$ (i.e., the probability of class $j$ in node $t$).\n",
      "\n",
      "For the given dataset, $gini(t)$ has been programmed for you in the function `gini_index`. To use the function, pass in a `numpy` array of the class values for a given node and the gini will be returned. In the example below, the function is used calculate the gini for splitting the dataset on feature 28, with value 2.5. \n",
      "- First all the target classes for a split are calculated using `numpy` indexing `ds.target[feature28>2.5]` \n",
      " - Note: this grabs all the classes which have feature28 greater than 2.5\n",
      "- Second, those classes are passed into the function to get the gini for going right in the tree (i.e., feature 28 being greater than the threshold 2.5). \n",
      " - `gini_r = gini_index(ds.target[feature28>2.5])`\n",
      "- Third, the gini is calculated for going left in the tree. \n",
      "     - `gini_l = gini_index(ds.target[feature28<=2.5])`\n",
      "- Combining the gini indices is left as an exercise in the next section"
     ]
    },
    {
     "cell_type": "code",
     "collapsed": false,
     "input": [
      "# compute the gini of several examples for the starting dataset\n",
      "\n",
      "def gini_index(classes_in_split):\n",
      "    # pay no attention to this code -- it just computes the gini for a given split \n",
      "    classes_in_split = np.reshape(classes_in_split,(len(classes_in_split),-1))\n",
      "    unique_classes = np.unique(classes_in_split)\n",
      "    gini = 1\n",
      "    for c in unique_classes:\n",
      "        gini -= (np.sum(classes_in_split==c) / float(len(classes_in_split)))**2\n",
      "        \n",
      "    return gini\n",
      "    \n",
      "# get the value for this feature as a column vector \n",
      "# (this is like grabbing one column of the record table)\n",
      "feature28 = ds.data[:,28]\n",
      "\n",
      "# if we split on the value of 2.5, then this is the gini for each resulting node:\n",
      "gini_r = gini_index(ds.target[feature28>2.5])\n",
      "gini_l = gini_index(ds.target[feature28<=2.5])\n",
      "\n",
      "# compute gini example. This splits on attribute '28' with a value of 2.5\n",
      "print 'gini for right node of split:', gini_r\n",
      "print 'gini for left node of split:', gini_l"
     ],
     "language": "python",
     "metadata": {},
     "outputs": [
      {
       "output_type": "stream",
       "stream": "stdout",
       "text": [
        "gini for right node of split: 0.884585786767\n",
        "gini for left node of split: 0.711540756654\n"
       ]
      }
     ],
     "prompt_number": 4
    },
    {
     "cell_type": "markdown",
     "metadata": {},
     "source": [
      "**Question 2:** Now, using the above values `gini_r` and `gini_l`. Calculate the combined Gini for the entire split. You will need to write the weighted summation (based upon the number of instances inside each node). To count the number of instances greater than a value using numpy, you can write `sum(some_array>5)` where `some_array` is an array of values and we want to now how many are greater than `5`."
     ]
    },
    {
     "cell_type": "code",
     "collapsed": false,
     "input": [
      "## Enter your code here\n",
      "\n",
      "\n",
      "\n",
      "\n",
      "## Enter your code here"
     ],
     "language": "python",
     "metadata": {},
     "outputs": [],
     "prompt_number": 2
    },
    {
     "cell_type": "markdown",
     "metadata": {},
     "source": [
      "___\n",
      "**Question 3:** Now we want to know which is a better split, `feature28 -> 2.5` or `feature28 -> 10`.  Enter your code to find the total gini of splitting on the threshold of 10 and compare it to the threshold for 2.5 for feature 28 (saved to variable `feature28`). According to gini, which threshold is better, 2.5 or 10.0?"
     ]
    },
    {
     "cell_type": "code",
     "collapsed": false,
     "input": [
      "# Enter your code here\n",
      "\n",
      "\n",
      "\n",
      "\n",
      "\n",
      "# Enter your code here"
     ],
     "language": "python",
     "metadata": {},
     "outputs": [],
     "prompt_number": 3
    },
    {
     "cell_type": "markdown",
     "metadata": {},
     "source": [
      "___\n",
      "## Entropy based splitting\n",
      "We discussed entropy as well in the video as another means of splitting. We calculated entropy for a node $t$ by:\n",
      "$$ Entropy(t) = -\\sum p(j|t) \\log p(j|t) $$\n",
      "where $p(j|t)$ is the same as above. To combine Entropy measures from a set of nodes, t = {1,...,T} we use: \n",
      "$$Entropy_{split}=\\sum_{t=1}^T \\frac{n_t}{N}Entropy(t)$$ \n",
      "where $n_t$ and $N$ are the same as defined above for the $Gini$. Information gain is calculated by subtracting the Entropy of the split from the Entropy of the parent node before splitting:\n",
      "$$InfoGain = Entropy(p)-Entropy_{split}$$\n",
      "where $p$ is the parent node before splitting. You are given an equation for calculating the $Entropy(t)$ of  node $t$. It works exactly like the `gini_index` function above, but is named `entropy_value`. "
     ]
    },
    {
     "cell_type": "code",
     "collapsed": false,
     "input": [
      "def entropy_value(classes_in_split):\n",
      "    # pay no attention to this code -- it just computes the gini for a given split \n",
      "    classes_in_split = np.reshape(classes_in_split,(len(classes_in_split),-1))\n",
      "    unique_classes = np.unique(classes_in_split)\n",
      "    ent = 0\n",
      "    for c in unique_classes:\n",
      "        p = (np.sum(classes_in_split==c) / float(len(classes_in_split)))\n",
      "        ent += p * np.log(p)\n",
      "        \n",
      "    return -ent\n",
      "\n",
      "ent_r = entropy_value(ds.target[feature28>2.5])\n",
      "ent_l = entropy_value(ds.target[feature28<=2.5])\n",
      "\n",
      "# compute entropy example. This splits on attribute '28' with a value of 2.5\n",
      "print 'entropy for right node of split:', ent_r\n",
      "print 'entropy for left node of split:', ent_l"
     ],
     "language": "python",
     "metadata": {},
     "outputs": [
      {
       "output_type": "stream",
       "stream": "stdout",
       "text": [
        "entropy for right node of split: 2.18369753782\n",
        "entropy for left node of split: 1.48988814128\n"
       ]
      }
     ],
     "prompt_number": 5
    },
    {
     "cell_type": "markdown",
     "metadata": {},
     "source": [
      "___\n",
      "**Question 4:** Calculate the information gain of the split when the threshold is 2.5 on `feature28`. What is the value of the information gain?"
     ]
    },
    {
     "cell_type": "code",
     "collapsed": false,
     "input": [
      "# Enter your code here\n",
      "\n",
      "\n",
      "\n",
      "\n",
      "# Enter your code here"
     ],
     "language": "python",
     "metadata": {},
     "outputs": [],
     "prompt_number": 4
    },
    {
     "cell_type": "markdown",
     "metadata": {},
     "source": [
      "**Question 5:** What is the information gain if the threshold is 10.0 on `feature28`? According to information gain, is it better to split on a threshold of 2.5 or 10? Does entropy give the same decision as gini for this example?"
     ]
    },
    {
     "cell_type": "code",
     "collapsed": false,
     "input": [
      "# Enter your code here\n",
      "\n",
      "\n",
      "\n",
      "\n",
      "\n",
      "# Enter your code here"
     ],
     "language": "python",
     "metadata": {},
     "outputs": [],
     "prompt_number": 5
    },
    {
     "cell_type": "markdown",
     "metadata": {},
     "source": [
      "___\n",
      "##Information gain and multi-way splitting\n",
      "Now assume that we can use not just a binary split, but a three way split. \n",
      "\n",
      "**Question 6** What is the information gain if we split feature28 on two thesholds (three separate nodes corresponding to three branches from one node) \n",
      "- node left: `feature28<2.5`, \n",
      "- node middle: `2.5<=feature28<10`, and \n",
      "- node right: `10<=feature28`? \n",
      "\n",
      "Is the information gain better? \n",
      "\n",
      "***Note***: You can index into a numpy array with the following notation: `some_array[(2.5<=feature28) & (feature28<10.0)]`"
     ]
    },
    {
     "cell_type": "code",
     "collapsed": false,
     "input": [
      "# Enter your code here\n",
      "\n",
      "\n",
      "\n",
      "\n",
      "\n",
      "# Enter your code here"
     ],
     "language": "python",
     "metadata": {},
     "outputs": [],
     "prompt_number": 6
    },
    {
     "cell_type": "markdown",
     "metadata": {},
     "source": [
      "**Question 7**: Should we normalize the quantity that we just calculated if we want to compare it to the information gain of a binary split? Why or Why not?"
     ]
    },
    {
     "cell_type": "code",
     "collapsed": false,
     "input": [
      "# Enter your code here\n",
      "\n",
      "\n",
      "\n",
      "\n",
      "\n",
      "\n",
      "# Enter your code here"
     ],
     "language": "python",
     "metadata": {},
     "outputs": [],
     "prompt_number": 7
    },
    {
     "cell_type": "markdown",
     "metadata": {},
     "source": [
      "___\n",
      "##Decision Trees in scikit-learn\n",
      "Scikit-learn also has an implementation of decision trees. Its available here:\n",
      "- http://scikit-learn.org/stable/modules/generated/sklearn.tree.DecisionTreeClassifier.html#sklearn.tree.DecisionTreeClassifier\n",
      "\n",
      "**Question 8**: What algorithm does scikit-learn use for creating decision trees (i.e., ID3, C4.5, C5.0, CART, MARS, CHAID, etc.)? "
     ]
    },
    {
     "cell_type": "code",
     "collapsed": false,
     "input": [
      "# Enter your answer here\n",
      "\n",
      "\n",
      "# Enter your answer here"
     ],
     "language": "python",
     "metadata": {},
     "outputs": [],
     "prompt_number": 104
    },
    {
     "cell_type": "markdown",
     "metadata": {},
     "source": [
      "___\n",
      "**Question 9**: Using the documentation, use scikit-learn to train a decision tree on the digits data. Calculate the accuracy on the training data. What is the accuracy? Did you expect the decision tree to have this kind of accuracy? Why or Why not?"
     ]
    },
    {
     "cell_type": "code",
     "collapsed": false,
     "input": [
      "# use scikit learn to train a decision tree\n",
      "from sklearn.tree import DecisionTreeClassifier\n",
      "\n",
      "# enter your code below here to train and predict on the same data\n",
      "\n",
      "# enter your code above here\n",
      "\n",
      "from sklearn.metrics import accuracy_score \n",
      "\n",
      "# enter your code below here to calculate accuracy\n",
      "print 'accuracy:', '??'\n",
      "print 'I did/did not expect... {your answer here}'\n",
      "# enter your code above here\n"
     ],
     "language": "python",
     "metadata": {},
     "outputs": [
      {
       "output_type": "stream",
       "stream": "stdout",
       "text": [
        "accuracy: ??\n",
        "I did/did not expect... {your answer here}\n"
       ]
      }
     ],
     "prompt_number": 6
    },
    {
     "cell_type": "markdown",
     "metadata": {},
     "source": [
      "___\n",
      "**Question 10**: Look at the other input variables to the function `DecisionTreeClassifier` could any of them be used to help prevent the decision tree from overlearning on the data? Which variables might we use to control overfitting and how (explain each)?"
     ]
    },
    {
     "cell_type": "code",
     "collapsed": false,
     "input": [
      "# Enter your answer here\n",
      "\n",
      "\n",
      "\n",
      "# Enter your answer here"
     ],
     "language": "python",
     "metadata": {},
     "outputs": [],
     "prompt_number": 10
    },
    {
     "cell_type": "markdown",
     "metadata": {},
     "source": [
      "________________________________________________________________________________________________________\n",
      "\n",
      "That's all! Please **upload your rendered notebook to blackboard** and please include **team member names** in the notebook submission."
     ]
    },
    {
     "cell_type": "code",
     "collapsed": false,
     "input": [],
     "language": "python",
     "metadata": {},
     "outputs": []
    }
   ],
   "metadata": {}
  }
 ]
}