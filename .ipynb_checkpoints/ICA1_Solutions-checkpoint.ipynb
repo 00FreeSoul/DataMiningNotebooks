{
 "metadata": {
  "name": "",
  "signature": "sha256:992a32e58b7fcc8d5002b3ea8dd8b5261fae7ec683dabf4664485294dc8644de"
 },
 "nbformat": 3,
 "nbformat_minor": 0,
 "worksheets": [
  {
   "cells": [
    {
     "cell_type": "markdown",
     "metadata": {},
     "source": [
      "#In Class Assignment One\n",
      "In the following assignment you will be asked to fill in python code and derivations for a number of different problems. Please read all instructions carefully and turn in the rendered notebook (or HTML of the rendered notebook) to blackboard before the end of class.\n",
      "\n",
      "**Distance Students**: please finish this assignment in 1 hour and 30 minutes. Turn in before next class per the instructions on blackboard.\n",
      "\n",
      "________________________________________________________________________________________________________\n",
      "\n",
      "##Loading the Data\n",
      "Please run the following code to read in the \"diabetes\" dataset from sklearn's data loading module. "
     ]
    },
    {
     "cell_type": "code",
     "collapsed": false,
     "input": [
      "from sklearn.datasets import load_diabetes\n",
      "import numpy as np\n",
      "\n",
      "ds = load_diabetes()\n",
      "\n",
      "# this holds the continuous feature data\n",
      "print 'features shape:', ds.data.shape # there are 442 instances and 10 features per instance\n",
      "print 'range of target:', np.min(ds.target),np.max(ds.target)"
     ],
     "language": "python",
     "metadata": {},
     "outputs": [
      {
       "output_type": "stream",
       "stream": "stdout",
       "text": [
        "features shape: (442, 10)\n",
        "range of target: 25.0 346.0\n"
       ]
      }
     ],
     "prompt_number": 2
    },
    {
     "cell_type": "markdown",
     "metadata": {},
     "source": [
      "________________________________________________________________________________________________________\n",
      "\n",
      "##Using Linear Regression \n",
      "In the videos, we derived the optimal values of the regression weights could be found with the following equation (you must be connected to the internet for this equation to show up properly):\n",
      "\n",
      "$$ w = (X^TX)^{-1}X^Ty $$\n",
      "\n",
      "**Question 1:** For the diabetes dataset, how many elements will the vector $w$ contain?"
     ]
    },
    {
     "cell_type": "code",
     "collapsed": false,
     "input": [
      "# The weight vector will have the number of attributes + 1 for the bias term.\n",
      "print 'The answer is:', ds.data.shape[1]+1, 'elements are in w'"
     ],
     "language": "python",
     "metadata": {},
     "outputs": [
      {
       "output_type": "stream",
       "stream": "stdout",
       "text": [
        "The answer is: 11 elements are in w\n"
       ]
      }
     ],
     "prompt_number": 3
    },
    {
     "cell_type": "markdown",
     "metadata": {},
     "source": [
      "________________________________________________________________________________________________________\n",
      "\n",
      "**Exercise 1:** In the following empty cell, use this equation and numpy matrix operations to find the values of the vector $w$. You will need to be sure $X$ and $y$ are created like the instructor talked about in the video. Don't forget to include any modifications to $X$ to account for the bias term in $w$. You might be interested in the following functions:\n",
      "\n",
      "- `np.hstack((mat1,mat2))` stack two matrices horizontally\n",
      "- `np.ones((rows,cols))`\n",
      "- `my_mat.T` takes transpose of numpy matrix named `my_mat`\n",
      "- `np.dot(mat1,mat2)` is matrix multiplication for two matrices\n",
      "- `np.linalg.inv(mat)` gets the inverse of the variable `mat`"
     ]
    },
    {
     "cell_type": "code",
     "collapsed": false,
     "input": [
      "# Write you code here, print the values of w to the console output of the notebook\n",
      "from numpy.linalg import inv # inverse\n",
      "from numpy import dot as mmult # a better name for matrix multiplication\n",
      "\n",
      "# we need to add ones to the vector X so that w will get a bias term\n",
      "X = np.hstack((np.ones([ds.data.shape[0],1]), ds.data))\n",
      "y = ds.target\n",
      "\n",
      "# now just plug and chug into the formula\n",
      "w = inv(mmult(X.T,X)).dot(mmult(X.T,y))\n",
      "print w"
     ],
     "language": "python",
     "metadata": {},
     "outputs": [
      {
       "output_type": "stream",
       "stream": "stdout",
       "text": [
        "[ 152.13348416  -10.01219782 -239.81908937  519.83978679  324.39042769\n",
        " -792.18416163  476.74583782  101.04457032  177.06417623  751.27932109\n",
        "   67.62538639]\n"
       ]
      }
     ],
     "prompt_number": 4
    },
    {
     "cell_type": "markdown",
     "metadata": {},
     "source": [
      "________________________________________________________________________________________________________\n",
      "\n",
      "**Exercise 2:** Scikit-learn also has a linear regression fitting implementation. Look at the scikit learn API and learn to use the linear regression method. The API is here: \n",
      "\n",
      "- API Reference: http://scikit-learn.org/stable/modules/generated/sklearn.linear_model.LinearRegression.html\n",
      "\n",
      "Use the sklearn `LinearRegression` module to check your results from the previous question. \n",
      "\n",
      "**Question 2**: Did you get the same parameters? "
     ]
    },
    {
     "cell_type": "code",
     "collapsed": false,
     "input": [
      "from sklearn.linear_model import LinearRegression\n",
      "\n",
      "# write your code here, print the values of model by accessing \n",
      "#    it properties that you learned from the API\n",
      "reg = LinearRegression(fit_intercept=True)\n",
      "reg.fit(ds.data,ds.target)\n",
      "\n",
      "print 'model coefficients are:', reg.coef_\n",
      "print 'model intercept is', reg.intercept_\n",
      "print 'Yes!! they are the same'"
     ],
     "language": "python",
     "metadata": {},
     "outputs": [
      {
       "output_type": "stream",
       "stream": "stdout",
       "text": [
        "model coefficients are: [ -10.01219782 -239.81908937  519.83978679  324.39042769 -792.18416163\n",
        "  476.74583782  101.04457032  177.06417623  751.27932109   67.62538639]\n",
        "model intercept is 152.133484163\n",
        "Yes!! they are the same\n"
       ]
      }
     ],
     "prompt_number": 5
    },
    {
     "cell_type": "markdown",
     "metadata": {},
     "source": [
      "________________________________________________________________________________________________________\n",
      "\n",
      "Recall that to predict the output from our model, $\\hat{y}$, from $w$ and $X$ we need to use the following formula:\n",
      "$\\hat{y}=w^TX.T$\n",
      "\n",
      "Where $X$ is a matrix with example instances in each row of the matrix. \n",
      "\n",
      "**Exercise 3:** \n",
      "- *Part A:* Use this matrix multiplication to predict output using numpy and also using the sklearn regression object.\n",
      "- *Part B:* Calculate the mean squared error between your prediction from numpy and the target, $\\sum_i(y-\\hat{y}_{numpy})^2$. \n",
      "- *Part C:* Calculate the mean squared error between your sklearn prediction and the target, $\\sum_i(y-\\hat{y}_{sklearn})^2$.\n",
      " - **Note**: you may need to make the regression weights a column vector using the following code: `w = w.reshape((len(w),1))` This assumes your weights vector is assigned to the variable named `w`."
     ]
    },
    {
     "cell_type": "code",
     "collapsed": false,
     "input": [
      "# Use this block to answer the questions\n",
      "\n",
      "# we can use numpy to compute the mean squared error of the linear regression model\n",
      "\n",
      "w = w.reshape((len(w),1)) # make w a column vector\n",
      "yhat_numpy = mmult(w.T,X.T) # multiply by the weights\n",
      "yhat_sklearn = reg.predict(ds.data) # use sklearn\n",
      "y = ds.target # assign the target\n",
      "\n",
      "# calculate the mean squared error\n",
      "MSE_sklearn = np.mean((y-yhat_sklearn)**2)\n",
      "MSE_numpy = np.mean((y-yhat_numpy)**2)\n",
      "\n",
      "print 'MSE Sklearn is:', MSE_sklearn\n",
      "print 'MSE Numpy is:', MSE_numpy"
     ],
     "language": "python",
     "metadata": {},
     "outputs": [
      {
       "output_type": "stream",
       "stream": "stdout",
       "text": [
        "MSE Sklearn is: 2859.69039877\n",
        "MSE Numpy is: 2859.69039877\n"
       ]
      }
     ],
     "prompt_number": 6
    },
    {
     "cell_type": "markdown",
     "metadata": {},
     "source": [
      "________________________________________________________________________________________________________\n",
      "\n",
      "##Using Linear Classification\n",
      "Now lets use the code you created to make a classifier with linear boundaries. Run the following code in order to load the iris dataset."
     ]
    },
    {
     "cell_type": "code",
     "collapsed": false,
     "input": [
      "from sklearn.datasets import load_iris\n",
      "import numpy as np\n",
      "\n",
      "# this will overwrite the diabetes dataset\n",
      "ds = load_iris()\n",
      "print 'features shape:', ds.data.shape # there are 150 instances and 4 features per instance\n",
      "print 'original number of classes:', len(np.unique(ds.target))\n",
      "\n",
      "# now let's make this a binary classification task\n",
      "ds.target = ds.target>1\n",
      "print 'new number of classes:', len(np.unique(ds.target))"
     ],
     "language": "python",
     "metadata": {},
     "outputs": [
      {
       "output_type": "stream",
       "stream": "stdout",
       "text": [
        "features shape: (150, 4)\n",
        "original number of classes: 3\n",
        "new number of classes: 2\n"
       ]
      }
     ],
     "prompt_number": 7
    },
    {
     "cell_type": "markdown",
     "metadata": {},
     "source": [
      "________________________________________________________________________________________________________\n",
      "\n",
      "**Exercise 4:** Now use linear regression to come up with a set of weights, `w`, that predict the class value. This is exactly like you did before for the *diabetes* dataset. However, instead of regressing to continuous values, you are just regressing to the integer value of the class (0 or 1), like we talked about in the video. Remember to account for the bias term when constructing the feature matrix, `X`. Print the weights of the linear classifier."
     ]
    },
    {
     "cell_type": "code",
     "collapsed": false,
     "input": [
      "# write your code here and print the values of the weights \n",
      "from numpy.linalg import inv # inverse\n",
      "from numpy import dot as mmult # a better name for matrix multiplication\n",
      "\n",
      "X = np.hstack((np.ones([ds.data.shape[0],1]), ds.data))\n",
      "y = ds.target\n",
      "\n",
      "w = inv(mmult(X.T,X)).dot(mmult(X.T,y))\n",
      "print w"
     ],
     "language": "python",
     "metadata": {},
     "outputs": [
      {
       "output_type": "stream",
       "stream": "stdout",
       "text": [
        "[-0.68544646 -0.04409841  0.19823256  0.00424001  0.54654271]\n"
       ]
      }
     ],
     "prompt_number": 8
    },
    {
     "cell_type": "markdown",
     "metadata": {},
     "source": [
      "________________________________________________________________________________________________________\n",
      "\n",
      "**Exercise 5:** Finally, use a hard decision function on the output of the linear regression to make this a binary classifier. This is just like we talked about in the video, where the output of the linear regression passes thrugh a function: \n",
      "\n",
      "$\\hat{y}=g(w^TX.T)$ where $g(w^TX.T) < \\alpha$ means the predicted class is `0` and $g(w^TX.T) >= \\alpha$ means the predicted class is `1`. \n",
      "\n",
      "Here, alpha is a threshold for deciding the class. \n",
      "\n",
      "**Question 3**: What value for $\\alpha$ makes the most sense? What is the accuracy of the classifier given the $\\alpha$ you chose? \n",
      "\n",
      "Note: You can calculate the accuracy with the following code: `accuracy = float(sum(yhat==y)) / len(y)` assuming you choose variable names `y` and `yhat` for the target and prediction, respectively."
     ]
    },
    {
     "cell_type": "code",
     "collapsed": false,
     "input": [
      "# use this box to predict the classification output\n",
      "yhat = mmult(w.T,X.T) # multiply by the weights\n",
      "alpha = 0.5 # directly between the two class values\n",
      "yhat = yhat > alpha # hard limit decision function\n",
      "\n",
      "accuracy = float(sum(yhat==y)) / len(y) \n",
      "print 'Percentage accuracy:', accuracy*100"
     ],
     "language": "python",
     "metadata": {},
     "outputs": [
      {
       "output_type": "stream",
       "stream": "stdout",
       "text": [
        "Percentage accuracy: 92.6666666667\n"
       ]
      }
     ],
     "prompt_number": 9
    },
    {
     "cell_type": "markdown",
     "metadata": {},
     "source": [
      "________________________________________________________________________________________________________\n",
      "\n",
      "That's all! Please **upload your rendered notebook to blackboard** and please include **team member names** in the notebook submission."
     ]
    },
    {
     "cell_type": "code",
     "collapsed": false,
     "input": [],
     "language": "python",
     "metadata": {},
     "outputs": []
    }
   ],
   "metadata": {}
  }
 ]
}