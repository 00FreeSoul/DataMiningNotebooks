{
 "cells": [
  {
   "cell_type": "markdown",
   "metadata": {},
   "source": [
    "#In Class Assignment Five Test Installation\n",
    "In the in class assignment you will be asked to fill in python code and R code. Please make sure that this notebook can be run in its entirety before class.\n",
    "\n",
    "________________________________________________________________________________________________________\n",
    "\n",
    "##Running in the 'R' Ecosystem with magics"
   ]
  },
  {
   "cell_type": "code",
   "execution_count": null,
   "metadata": {
    "collapsed": false
   },
   "outputs": [],
   "source": [
    "# getting things started\n",
    "import time\n",
    "import matplotlib.pyplot as plt\n",
    "import numpy as np\n",
    "%matplotlib inline\n",
    "\n",
    "# You will need to have R installed, as well as Rpy2 and the arules library\n",
    "from rpy2.robjects.packages import importr\n",
    "from rpy2 import robjects as robj\n",
    "\n",
    "# this way we can write r code by simply writing %R\n",
    "%load_ext rmagic\n",
    "%load_ext rpy2.ipython \n",
    "# this enables the %R extension to iPython (does not work outside of the iPython shell)\n",
    "\n",
    "# the packages imported below will need to be installed using R\n",
    "# open R and install the following\n",
    "#     install.package(arules)\n",
    "#     install.package(arulesViz)\n",
    "## NOTE: you may need to navigate to R > Packages & Data > Package Installer, then select the packages from a list:\n",
    "# BE SURE that the \"install dependencies\" is selected\n",
    "\n",
    "arules = importr('arules') # same as importing in R with the \"library\" command\n",
    "arules_viz = importr('arulesViz') # visualize the different rules\n",
    "\n",
    "# you can also test that these are installed in R with the code: \n",
    "# library(arules) from the R concole\n",
    "# library(arulesViz) from the R concole"
   ]
  },
  {
   "cell_type": "code",
   "execution_count": null,
   "metadata": {
    "collapsed": false,
    "scrolled": false
   },
   "outputs": [],
   "source": [
    "%R load(\"titanic2.raw.rdata\")\n",
    "%R rules <- apriori(titanic.raw,parameter = list(minlen=2, supp=0.05, conf=0.8))\n",
    "%R rules.sorted <- sort(rules, by=\"lift\")\n",
    "%R inspect(rules.sorted, n=10)\n",
    "%R plot(rules.sorted, method=\"grouped\")\n",
    "\n",
    "# Make sure that the titanic data is in the same directory\n",
    "print('It worked!')"
   ]
  },
  {
   "cell_type": "markdown",
   "metadata": {
    "collapsed": true
   },
   "source": [
    "If run properly you should see a graph above showing grouped plots of the rules. That's it. You are done!!"
   ]
  },
  {
   "cell_type": "code",
   "execution_count": null,
   "metadata": {
    "collapsed": true
   },
   "outputs": [],
   "source": []
  }
 ],
 "metadata": {
  "kernelspec": {
   "display_name": "Python 3",
   "language": "python",
   "name": "python3"
  },
  "language_info": {
   "codemirror_mode": {
    "name": "ipython",
    "version": 3
   },
   "file_extension": ".py",
   "mimetype": "text/x-python",
   "name": "python",
   "nbconvert_exporter": "python",
   "pygments_lexer": "ipython3",
   "version": "3.5.0"
  }
 },
 "nbformat": 4,
 "nbformat_minor": 0
}
