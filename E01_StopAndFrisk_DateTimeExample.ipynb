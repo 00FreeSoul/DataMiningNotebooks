{
 "cells": [
  {
   "cell_type": "markdown",
   "metadata": {},
   "source": [
    "# Excerpt from the New York Times\n",
    "http://www.nytimes.com/2014/09/20/nyregion/friskings-ebb-but-still-hang-over-brooklyn-lives.html?_r=0\n",
    "\n",
    "In the housing projects of eastern Brooklyn, some young men no longer clasp hands when greeting each other, they say, fearful that their grasp might be mistaken for a drug deal and invite a search by the police. Friends heading to the bodega sometimes split up, worried that walking in a group will attract police attention.\n",
    "\n",
    "They are subtle yet telling changes, lasting effects of years of police stops of young men, mostly in black and Latino neighborhoods. Often the stops were without legal justification, a federal court found last year.\n",
    "\n",
    "Today, “stop-and-frisk” as New York City knew it is over, undone by a torrent of public outrage and political pressure, and by legal challenges that culminated in the ruling that the Police Department’s drastically increased use of the street stops of black and Hispanic men over the preceding decade was unconstitutional."
   ]
  },
  {
   "cell_type": "markdown",
   "metadata": {},
   "source": [
    "This is a quick example of converting data in to time stamps that pandas can understand and manipulate.\n",
    "\n",
    "#Time Stamps"
   ]
  },
  {
   "cell_type": "code",
   "execution_count": null,
   "metadata": {
    "collapsed": true
   },
   "outputs": [],
   "source": [
    "import pandas as pd\n",
    "\n",
    "# the file must be placed in the same directory as where you are running iPython\n",
    "# read in from csv file into a pandas data frame\n",
    "df = pd.read_csv('SQF 2012.csv')\n",
    "df.sex += 1 # make inline with the rest of the nominals in the datset"
   ]
  },
  {
   "cell_type": "code",
   "execution_count": null,
   "metadata": {
    "collapsed": false
   },
   "outputs": [],
   "source": [
    "# let's take a look at the dataset (the csv I am using has a reduced number of columns) \n",
    "pd.options.display.max_columns = 0\n",
    "df.head()"
   ]
  },
  {
   "cell_type": "code",
   "execution_count": null,
   "metadata": {
    "collapsed": false
   },
   "outputs": [],
   "source": [
    "df.describe() # display statistitcs from the dataset"
   ]
  },
  {
   "cell_type": "code",
   "execution_count": null,
   "metadata": {
    "collapsed": false
   },
   "outputs": [],
   "source": [
    "df.info()"
   ]
  },
  {
   "cell_type": "code",
   "execution_count": null,
   "metadata": {
    "collapsed": false
   },
   "outputs": [],
   "source": [
    "# convert ot a date time\n",
    "date_as_series = pd.to_datetime(df.datestop.astype(str),format='%m%d%Y')\n",
    "date_as_series"
   ]
  },
  {
   "cell_type": "code",
   "execution_count": null,
   "metadata": {
    "collapsed": false
   },
   "outputs": [],
   "source": [
    "# convert to a string that is representable with hours and minutes\n",
    "timeofday_str = [\"%2.2d:%2.2d\"%(float(d)/100, float(d)%100) for d in df.timestop]\n",
    "\n",
    "# convert that string using the dat_time function\n",
    "timeofday = pd.to_datetime(timeofday_str,format='%H:%M')\n",
    "timeofday"
   ]
  },
  {
   "cell_type": "code",
   "execution_count": null,
   "metadata": {
    "collapsed": false
   },
   "outputs": [],
   "source": [
    "timeofday_str = [\"%s %2.2d:%2.2d\"%(dat,float(hr)/100, float(hr)%100) for hr,dat in zip(df.timestop,df.datestop.astype(str))]\n",
    "alldates = pd.to_datetime(timeofday_str,format='%m%d%Y %H:%M')\n",
    "alldates"
   ]
  },
  {
   "cell_type": "markdown",
   "metadata": {},
   "source": [
    "Some of the code in this notebook below is manipulated from the examples of how to use the DateTimeIndex in pandas, except manipulated for use with the current data.\n",
    "- http://pandas.pydata.org/pandas-docs/stable/timeseries.html"
   ]
  },
  {
   "cell_type": "code",
   "execution_count": null,
   "metadata": {
    "collapsed": true
   },
   "outputs": [],
   "source": []
  },
  {
   "cell_type": "code",
   "execution_count": null,
   "metadata": {
    "collapsed": false
   },
   "outputs": [],
   "source": [
    "# now lets replace the index of the pandas dataframe with the time stamp\n",
    "df.index = alldates"
   ]
  },
  {
   "cell_type": "code",
   "execution_count": null,
   "metadata": {
    "collapsed": false
   },
   "outputs": [],
   "source": [
    "# with the timestamp as an index, you can do all sorts of nifty, accelrated operations\n",
    "df['2012-6']"
   ]
  },
  {
   "cell_type": "code",
   "execution_count": null,
   "metadata": {
    "collapsed": false
   },
   "outputs": [],
   "source": [
    "df['2012-4-1':'2012-4-2']"
   ]
  },
  {
   "cell_type": "code",
   "execution_count": null,
   "metadata": {
    "collapsed": false
   },
   "outputs": [],
   "source": [
    "df.frisked['2012-4-1':'2012-4-2'].sum() / float(df.frisked['2012-4-1':'2012-4-2'].count()) *100"
   ]
  },
  {
   "cell_type": "code",
   "execution_count": null,
   "metadata": {
    "collapsed": false
   },
   "outputs": [],
   "source": [
    "# Property\tDescription\n",
    "# year\tThe year of the datetime\n",
    "# month\tThe month of the datetime\n",
    "# day\tThe days of the datetime\n",
    "# hour\tThe hour of the datetime\n",
    "# minute\tThe minutes of the datetime\n",
    "# second\tThe seconds of the datetime\n",
    "# microsecond\tThe microseconds of the datetime\n",
    "# nanosecond\tThe nanoseconds of the datetime\n",
    "# date\tReturns datetime.date\n",
    "# time\tReturns datetime.time\n",
    "# dayofyear\tThe ordinal day of year\n",
    "# weekofyear\tThe week ordinal of the year\n",
    "# week\tThe week ordinal of the year\n",
    "# dayofweek\tThe day of the week with Monday=0, Sunday=6\n",
    "# weekday\tThe day of the week with Monday=0, Sunday=6\n",
    "# quarter\tQuarter of the date: Jan=Mar = 1, Apr-Jun = 2, etc.\n",
    "# is_month_start\tLogical indicating if first day of month (defined by frequency)\n",
    "# is_month_end\tLogical indicating if last day of month (defined by frequency)\n",
    "# is_quarter_start\tLogical indicating if first day of quarter (defined by frequency)\n",
    "# is_quarter_end\tLogical indicating if last day of quarter (defined by frequency)\n",
    "# is_year_start\tLogical indicating if first day of year (defined by frequency)\n",
    "# is_year_end\tLogical indicating if last day of year (defined by frequency)\n",
    "\n",
    "df[df.index.dayofweek==2]"
   ]
  },
  {
   "cell_type": "code",
   "execution_count": null,
   "metadata": {
    "collapsed": false
   },
   "outputs": [],
   "source": [
    "# another fun example\n",
    "df[(df.index.hour>8) & (df.index.hour<10)].count()"
   ]
  },
  {
   "cell_type": "markdown",
   "metadata": {},
   "source": []
  },
  {
   "cell_type": "code",
   "execution_count": null,
   "metadata": {
    "collapsed": true
   },
   "outputs": [],
   "source": []
  }
 ],
 "metadata": {
  "kernelspec": {
   "display_name": "Python 2",
   "language": "python",
   "name": "python2"
  },
  "language_info": {
   "codemirror_mode": {
    "name": "ipython",
    "version": 2
   },
   "file_extension": ".py",
   "mimetype": "text/x-python",
   "name": "python",
   "nbconvert_exporter": "python",
   "pygments_lexer": "ipython2",
   "version": "2.7.10"
  }
 },
 "nbformat": 4,
 "nbformat_minor": 0
}
